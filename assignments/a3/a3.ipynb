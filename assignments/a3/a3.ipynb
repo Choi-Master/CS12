{
 "cells": [
  {
   "cell_type": "markdown",
   "metadata": {},
   "source": [
    "# Assignment 3: Practice with Loops\n",
    "\n",
    "For this assignment please put all your code into a copy of [a3.py](a3.py).\n",
    "\n",
    "Answer each of the questions below and put the requested functions into `a3.py`.\n",
    "Please use *exactly* the name and list of parameters given in the question.\n",
    "\n",
    "When you're done, create a .zip file named `a3.zip` that contains *just* these\n",
    "two files: `a2.py` (from assignment 2, needed for question 6 onward) and your\n",
    "finished `a3.py`. Then submit `a3.zip` on Canvas."
   ]
  },
  {
   "cell_type": "markdown",
   "metadata": {},
   "source": [
    "## Question 1: ask_int1\n",
    "\n",
    "Here's a Python function that checks if a variable can be converted to an\n",
    "`int`. Please cut-and-paste it into the top of your `a3.py` file:"
   ]
  },
  {
   "cell_type": "code",
   "execution_count": 2,
   "metadata": {},
   "outputs": [],
   "source": [
    "def is_int(n):\n",
    "    \"\"\" Returns True of n is an int, and False otherwise.\n",
    "    >>> is_int('5')\n",
    "    True\n",
    "    >>> is_int('5.6')\n",
    "    False\n",
    "    \"\"\"\n",
    "    try:\n",
    "        int(n)\n",
    "        return True\n",
    "    except ValueError:\n",
    "        return False"
   ]
  },
  {
   "cell_type": "markdown",
   "metadata": {},
   "source": [
    "You don't need to worry about `try`/`catch`, other than to know it's how Python\n",
    "handles errors (such as not being able to convert a string to an `int`).\n",
    "\n",
    "Using `is_int`, write a function called `ask_int1(prompt)` that prints the\n",
    "string `prompt` on the screen and then reads an `int` typed by the user. If the\n",
    "user types an invalid `int`, then `ask_int1` prints the prompt and asks again.\n",
    "It keeps asking until the user enters a valid `int`.\n",
    "\n",
    "Here's an example of how `ask_int1('How old are you? ')` should work:\n",
    "\n",
    "```\n",
    "How old are you? ten\n",
    "How old are you? 3.4\n",
    "How old are you? 20\n",
    "20\n",
    "```"
   ]
  },
  {
   "cell_type": "markdown",
   "metadata": {},
   "source": [
    "## Question 2: ask_int2\n",
    "\n",
    "Write a function called `ask_int2(prompt)` that works the same as `ask_int1`,\n",
    "but when the user is asked to re-type an answer it prints the more helpful\n",
    "\"Sorry ...\" message shown in the example:\n",
    "\n",
    "Here's an example when calling `ask_int2('How old are you? ')`:\n",
    "\n",
    "```\n",
    "How old are you? ten\n",
    "Sorry, I don't know what int \"ten\" is. Please try again.\n",
    "\n",
    "How old are you? 3.4\n",
    "Sorry, I don't know what int \"3.4\" is. Please try again.\n",
    "\n",
    "How old are you? 20\n",
    "20\n",
    "```\n",
    "\n",
    "Make the \"Sorry ...\" message exactly the same as in the examples."
   ]
  },
  {
   "cell_type": "markdown",
   "metadata": {},
   "source": [
    "## Question 3: ask_int_between\n",
    "\n",
    "Write a function called `ask_int_between(lo, hi)` that returns an `int` entered\n",
    "by the user that is in the range `lo` to `hi`. `lo` is the lowest possible\n",
    "value, and `hi` is the highest possible value. You can assume that `lo` is less\n",
    "than, or equal to, `hi`.\n",
    "\n",
    "If the user enters an invalid number, or a number that is less then `lo` or\n",
    "greater than `hi`, then, as shown, print an error message and ask them to try\n",
    "again. Make sure the two error messages are different, specific to the problem.\n",
    "\n",
    "If the user enters a valid `int` that is either less then `lo` or greater than\n",
    "`hi`, then print the error messages that are shown and ask them to try again.\n",
    "\n",
    "Here's an example of calling `ask_int_between(3, 8)`:\n",
    "\n",
    "```\n",
    "Please enter a number from 3 to 8: two\n",
    "Please try again: I don't know what int \"two\" is.\n",
    "Please enter a number from 3 to 8: 2\n",
    "Please try again: 2 is too low.\n",
    "Please enter a number from 3 to 8: 15\n",
    "Please try again: 15 is too high.\n",
    "Please enter a number from 3 to 8: 8\n",
    "8\n",
    "```"
   ]
  },
  {
   "cell_type": "markdown",
   "metadata": {},
   "source": [
    "## Question 4: Turtles love pentagons\n",
    "\n",
    "The next few questions use turtle graphics, so add `import turtle` to the top of\n",
    "`a3.py`.\n",
    "\n",
    "Write a function called `pentagon_at(x, y, size)` that draws a regular pentagon\n",
    "(i.e. a 5-sided polygon with all side lengths the same) whose bottom-left vertex\n",
    "is at position (`x`, `y`), and whose side-length is `size`.\n",
    "\n",
    "Importantly, after the pentagon is drawn, the turtle should be at the same\n",
    "vertex where it started, and facing in the *same* direction as when it started.\n",
    "\n",
    "For example:\n",
    "\n",
    "![one pentagon](one_pentagon.gif)"
   ]
  },
  {
   "cell_type": "markdown",
   "metadata": {},
   "source": [
    "## Question 5: A pentagonal flower\n",
    "\n",
    "Write a function called `pentagonal_flower(x, y, size)` that does this:\n",
    "\n",
    "- gets an `int` `n` from the user in the range 5 to 50 using `ask_int_between`\n",
    "- draws `n` pentagons, each with side length `size`, such that the lower-left\n",
    "  corner of each pentagon is at (`x`, `y`), and after each pentagon the turtle\n",
    "  turns right `360/n` degrees\n",
    "- when the pentagons are all drawn, the turtle is hidden\n",
    "\n",
    "For example, here's a flower made of 25 pentagons:\n",
    "\n",
    "![25 pentagonal flower](pentagonal_flower_25.gif)"
   ]
  },
  {
   "cell_type": "markdown",
   "metadata": {},
   "source": [
    "## Question 6: Re-using a stick figure\n",
    "\n",
    "Put a copy of the file `a2.py` from assignment 2 into your assignment 3 folder\n",
    "on your computer. Put `import a2` at the top of `a3.py` so you can call\n",
    "functions from `a2`, e.g. `a2.stick_figure(10)`. \n",
    "\n",
    "Now, in `a3.py`, write a function called `draw_figure_rand(size)` that calls the\n",
    "`stick_figure` function from `a2.py` to draw a stick figure of the given size at\n",
    "the turtle's current position.\n",
    "\n",
    "**Note** If you didn't finish assignment 2, then please finish it! If your\n",
    "`stick_figure` function has bugs or doesn't work the way you like, please update\n",
    "it so it works correctly with this assignment."
   ]
  },
  {
   "cell_type": "markdown",
   "metadata": {},
   "source": [
    "## Question 7: A row of stick figures\n",
    "\n",
    "Write a function called `figure_row(x, y, n)` that draws a *horizontal* line of\n",
    "`n` stick figures. Draw the first stick figure at (`x`, `y`), and the others to\n",
    "the right of it at equally-spaced intervals. *Don't* let the figures overlap or\n",
    "go off the screen.\n",
    "\n",
    "(`x`, `y`) should be either the bottom-left or bottom-right corner of the row of\n",
    "stick figures.\n",
    "\n",
    "Note that there is no `size` parameter passed to `figure_row`. Draw stick\n",
    "figures of size so at least 10 of them can fit on the screen without going off\n",
    "the screen.\n",
    "\n",
    "For example, here's a row of 10 stick figures:\n",
    "\n",
    "![ten figure row](ten_figure_row.png)"
   ]
  },
  {
   "cell_type": "markdown",
   "metadata": {},
   "source": [
    "## Question 8: A grid of stick figures\n",
    "\n",
    "Write a function called `figure_grid(x, y, r, c)` that draws a rectangular array\n",
    "consisting of `r` rows each containing `c` stick figures (drawn using\n",
    "`figure_row`). Draw each row at regularly spaced intervals, and don't let\n",
    "figures overlap or go off the screen.\n",
    "\n",
    "Draw the figures at a size that allows for at least 5 rows and 10 figures per\n",
    "row to fit on the screen.\n",
    "\n",
    "For example, here's a 10 by 10 grid of stick figures:\n",
    "\n",
    "![ten by ten figure grid](ten_by_ten_figure_grid.png)"
   ]
  },
  {
   "cell_type": "markdown",
   "metadata": {},
   "source": [
    "\n",
    "\n",
    "## Marking Scheme\n",
    "\n",
    "**2 marks** each for questions 1 to 8 (a total of 16 marks)\n",
    "\n",
    "**2 marks** Overall: consistent indentation and spacing (all blank lines and\n",
    "spaces should have a good reason for being there)\n",
    "\n",
    "**1 mark** Overall: variable and function names are self-descriptive\n",
    "\n",
    "**1 mark** Overall: each line of the file is 100 characters, or less, in length\n",
    "\n",
    "**Please make sure to follow the submit instructions carefully!** As mentioned\n",
    "at the start of the assignment, you should submit on Canvas a zip file named\n",
    "`a3.zip` that contains just the two Python files `a3.py` and `a2.py`."
   ]
  },
  {
   "cell_type": "markdown",
   "metadata": {},
   "source": []
  }
 ],
 "metadata": {
  "kernelspec": {
   "display_name": "Python 3",
   "language": "python",
   "name": "python3"
  },
  "language_info": {
   "codemirror_mode": {
    "name": "ipython",
    "version": 3
   },
   "file_extension": ".py",
   "mimetype": "text/x-python",
   "name": "python",
   "nbconvert_exporter": "python",
   "pygments_lexer": "ipython3",
   "version": "3.8.10"
  }
 },
 "nbformat": 4,
 "nbformat_minor": 2
}
