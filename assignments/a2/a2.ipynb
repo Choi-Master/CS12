{
 "cells": [
  {
   "cell_type": "markdown",
   "metadata": {},
   "source": [
    "# Assignment 2: Automatic Crowds"
   ]
  },
  {
   "cell_type": "markdown",
   "metadata": {},
   "source": [
    "> *Nobody goes there anymore. It's too crowded.*\n",
    ">\n",
    "> Yogi Berra\n",
    "\n",
    "You've probably seen movies with crowds of people. While they might sometimes\n",
    "use real people, nowadays crowds are often computer-generated. This gives the\n",
    "film-makers more control over the size and behaviour of the crowd, and probably\n",
    "saves them money as well.\n",
    "\n",
    "In this assignment, we'll explore how to make a crowd scene using turtle\n",
    "graphics.\n",
    "\n",
    "**Answer the questions below in order**: later questions depend upon earlier\n",
    "ones. Use *exactly* the function name and parameters as given in the question,\n",
    "and put all your functions into a single Python file named `a2.py`. Please\n",
    "include your name and email at the top of `a2.py` formatted like this:\n",
    "\n",
    "```python\n",
    "#\n",
    "# Full Name:\n",
    "#  SFU ID #:\n",
    "# SFU Email:\n",
    "#\n",
    "```\n",
    "\n",
    "When you're done, submit your finished `a2.py` file on Canvas."
   ]
  },
  {
   "cell_type": "markdown",
   "metadata": {},
   "source": [
    "## Note on Turtle Graphics"
   ]
  },
  {
   "cell_type": "markdown",
   "metadata": {},
   "source": [
    "**Don't** use Google Colab for this assignment. The turtle graphics in Colab are\n",
    "different to set up and don't have the same functionality as the standard Python\n",
    "turtle graphics.\n",
    "\n",
    "Please use IDLE or VS Code to write code with turtle graphics."
   ]
  },
  {
   "cell_type": "markdown",
   "metadata": {},
   "source": [
    "## Question 1: Regular Polygons\n",
    "\n",
    "Write a function called `polygon(n, size)` that uses turtle graphics to draw an\n",
    "$n$-sided [regular polygon](https://en.wikipedia.org/wiki/Regular_polygon) with\n",
    "each side of length `size`.\n",
    "\n",
    "Use this algorithm:\n",
    "\n",
    "- Set the turning $\\mathit{angle}$ to be $\\frac{360}{n}$\n",
    "- Do the following $n$ times:\n",
    "\t+ draw a line of length `size`\n",
    "\t+ turn left $\\mathit{angle}$ degrees\n",
    "\n",
    "In addition, please add error checking to your function:\n",
    "- If $n < 3$, print a helpful error message and return without drawing anything.\n",
    "- If $size <= 0$, print a helpful error message and return without drawing\n",
    "  anything.\n",
    "\n",
    "Here is a pentagon (a 5-sided polygon):\n",
    "\n",
    "![a pentagon](pentagon.gif)"
   ]
  },
  {
   "cell_type": "markdown",
   "metadata": {},
   "source": [
    "## Question 2: Jumping\n",
    "\n",
    "Write a function called `jump_to(x, y)` that moves the turtle to position (`x`,\n",
    "`y`) *without* drawing a line. After the turtle has jumped to (`x`, `y`) its pen\n",
    "should be down and ready to draw.\n",
    "\n",
    "`turtle.goto(x, y)` will move the turtle to (`x`, `y`), but if the pen is down\n",
    "it will draw a line.\n",
    "\n",
    "Also, write a function called `jump_to_test()` that uses `jump_to` and `polygon`\n",
    "to draw this picture:\n",
    "\n",
    "![four pentagons](fourPentagons.gif)"
   ]
  },
  {
   "cell_type": "markdown",
   "metadata": {},
   "source": [
    "## Question 3: Circles\n",
    "\n",
    "Write a function called `circle(radius)` that draws a circle whose radius is\n",
    "`radius`. To draw a circle in turtle graphics, just draw a polygon with lots of\n",
    "sides, say 50 - 100.\n",
    "\n",
    "**Important** *Don't* call the `turtle.circle(r)` to draw this circle. Use just\n",
    "your `polygon` function.\n",
    "\n",
    "To calculate the size (length) of the polygon edges, use this formula inside\n",
    "your `circle` function:\n",
    "\n",
    "$$\\mathit{size} = 2 \\mathit{r} \\sin \\frac{\\pi}{n}$$\n",
    "\n",
    "Here, $r$ is the radius passed to `circle`, and $n$ is the number sides of the\n",
    "polygon.\n",
    "\n",
    "The `sin` function, and `pi`, are in Python's `math` module.\n",
    "\n",
    "![a circle](circle.gif)\n",
    "\n",
    "Also, write a function called `circle_test()` that uses your `circle` function\n",
    "to draw 10 concentric circles like this:\n",
    "\n",
    "![ten circles](tenCircles.gif)"
   ]
  },
  {
   "cell_type": "markdown",
   "metadata": {},
   "source": [
    "## Question 4: Eyes\n",
    "\n",
    "Write a function called `eye(radius)` that draws one (cartoon) eye using two\n",
    "circles: a big circle, and a filled-in smaller circle inside the big one\n",
    "(representing the pupil).\n",
    "\n",
    "Use the `turtle.begin_fill()` and `turtle.end_fill()` functions to fill-in the\n",
    "smaller circle.\n",
    "\n",
    "Here's an example:\n",
    "\n",
    "![an eye](eye.gif)\n",
    "\n",
    "Also, write a function called `eye_test()` that draws a pair of eyes of size 50\n",
    "like this:\n",
    "\n",
    "![a pair of eyes](pairOfEyes.gif)"
   ]
  },
  {
   "cell_type": "markdown",
   "metadata": {},
   "source": [
    "## Question 5: Noses\n",
    "\n",
    "Write a function called `nose(size)` that draws a (cartoon) nose that consists\n",
    "of, at least, two different shapes. The exact style and look of the nose is up\n",
    "to you. It could be as simple as an upside-down 7.\n",
    "\n",
    "Make it so that the bigger `size` is, the bigger the nose.\n",
    "\n",
    "![a nose](nose.gif)"
   ]
  },
  {
   "cell_type": "markdown",
   "metadata": {},
   "source": [
    "## Question 6: Mouths\n",
    "\n",
    "Write a function called `mouth(size, style)` that draws a (cartoon) mouth as\n",
    "follows:\n",
    "\n",
    "- If `style == 'happy'`, the mouth is drawn smiling. \n",
    "- If `style == 'sad'`, the mouth is drawn frowning.\n",
    "- If `style == 'surprised'`, the mouth is drawn as a circle.\n",
    "- For any other value of `style`, the mouth is drawn as a neutral expression,\n",
    "  e.g. a straight line.\n",
    "\n",
    "Make it so that the bigger `size` is, the bigger the mouth.\n",
    "\n",
    "Here are examples of the four mouths:\n",
    "\n",
    "![four mouths](mouths.gif)"
   ]
  },
  {
   "cell_type": "markdown",
   "metadata": {},
   "source": [
    "## Question 7: Heads\n",
    "\n",
    "Write a function called `head(size)` that draws a (cartoon) head that consists\n",
    "of, at least, two eyes, a random mouth, a nose, and a head (e.g. a circle) all\n",
    "around it. Use the functions you wrote above to draw the eyes, mouth, nose, and\n",
    "head.\n",
    "\n",
    "Choose the mouth style at random to be one of the 4 mouth shapes. Remember to\n",
    "put `import random` at the top of your file to get access to the `random`\n",
    "module.\n",
    "\n",
    "The size of the head should be controllable using `size`, e.g. a small value of\n",
    "`size` should draw a small head, and a big value should draw a big head. Make\n",
    "sure all the eyes, nose, and mouth fit into it snugly and are proportional to\n",
    "the size.\n",
    "\n",
    "For instance, a head with a surprised face could look like this:\n",
    "\n",
    "![surprised face](surprised.gif)"
   ]
  },
  {
   "cell_type": "markdown",
   "metadata": {},
   "source": [
    "## Question 8: Stick Figures\n",
    "\n",
    "Write a function called `stick_figure(size)` that draws a stick figure with a\n",
    "head and body. It should have, at least, a head (using your `head` function), a\n",
    "torso (maybe just a line), arms, and legs. They can be simple stick figures if\n",
    "you like, or more elaborate.\n",
    "\n",
    "**Include some randomness in the body beyond just the mouth randomness**. For\n",
    "example, you could chose the color at random, or make the arms point in random\n",
    "directions, etc.\n",
    "\n",
    "![a stick figure](stick_figure.png)"
   ]
  },
  {
   "cell_type": "markdown",
   "metadata": {},
   "source": [
    "## Question 9: Crowds\n",
    "\n",
    "Write a function called `crowd(n, min_size, max_size)` that draws `n` stick\n",
    "figures (using your `stick_figure` function) at random locations on the screen.\n",
    "The size of each stick figure should be chosen at random in the range `min_size`\n",
    "to `max_size`.\n",
    "\n",
    "For example, here is a result of `crowd(100, 5, 20)`:\n",
    "\n",
    "<img src=\"crowd100.png\" alt=\"a random crowd of 100 stick figures\" style=\"width:200px;\"/>"
   ]
  },
  {
   "cell_type": "markdown",
   "metadata": {},
   "source": [
    "## Marking Scheme\n",
    "\n",
    "**2 marks** each for questions 1 to 9 (a total of 18 marks)\n",
    "\n",
    "**1 mark** overall: consistent indentation and spacing (all blank lines and\n",
    "spaces should have a good reason for being there)\n",
    "\n",
    "**1 mark** overall: all variable and function names are self-descriptive\n",
    "\n",
    "**1 mark** overall: the length of all lines are less than, or equal to, 100\n",
    "characters\n",
    "\n",
    "Please note that if there are clear readability problems with your code other\n",
    "than what's mention above, the marker may deduct marks. Always make your code\n",
    "easy to read."
   ]
  },
  {
   "cell_type": "markdown",
   "metadata": {},
   "source": [
    "## Hints"
   ]
  },
  {
   "cell_type": "markdown",
   "metadata": {},
   "source": [
    "In addition to calling `turtle.speed('fastest')` or `turtle.hideturtle()`, you\n",
    "can speed up drawing quite a bit with this code:\n",
    "\n",
    "```python\n",
    "turtle.Screen().tracer(0)  # don't show any drawing on the screen\n",
    "# ... draw stuff ...\n",
    "turtle.Screen().update()   # refresh the screen to see what was drawn\n",
    " ```\n",
    "\n",
    "If you want to save a turtle position to come back to later, you can do this:\n",
    "\n",
    "```python\n",
    "x, y = turtle.position()\n",
    "# ... do stuff ...\n",
    "turtle.goto(x, y)   # go back to location (x, y)\n",
    "```\n",
    "\n",
    "`setheading` makes the turtle face a particular direction:\n",
    "\n",
    "```python\n",
    "turtle.setheading(0)    # face east\n",
    "turtle.setheading(90)   # face north\n",
    "turtle.setheading(180)  # face west\n",
    "turtle.setheading(270)  # face south\n",
    "```\n"
   ]
  }
 ],
 "metadata": {
  "kernelspec": {
   "display_name": "Python 3",
   "language": "python",
   "name": "python3"
  },
  "language_info": {
   "codemirror_mode": {
    "name": "ipython",
    "version": 3
   },
   "file_extension": ".py",
   "mimetype": "text/x-python",
   "name": "python",
   "nbconvert_exporter": "python",
   "pygments_lexer": "ipython3",
   "version": "3.8.10"
  }
 },
 "nbformat": 4,
 "nbformat_minor": 2
}
